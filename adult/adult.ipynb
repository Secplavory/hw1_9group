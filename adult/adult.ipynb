{
 "cells": [
  {
   "cell_type": "code",
   "execution_count": 1,
   "id": "7032b89d-94a6-48e9-8304-a9215ef78643",
   "metadata": {},
   "outputs": [],
   "source": [
    "import tensorflow as tf\n",
    "import numpy as np\n",
    "import pandas as pd\n",
    "from tensorflow import keras\n",
    "from tensorflow.keras import layers"
   ]
  },
  {
   "cell_type": "code",
   "execution_count": 2,
   "id": "ef666392-5f70-4a67-a131-ee8fe198f3cb",
   "metadata": {},
   "outputs": [],
   "source": [
    "train_df = pd.read_csv(\"./data/processed_train.csv\")\n",
    "test_df = pd.read_csv(\"./data/processed_test.csv\")"
   ]
  },
  {
   "cell_type": "code",
   "execution_count": 3,
   "id": "33e76850-4891-4d1c-8563-200a044b1728",
   "metadata": {},
   "outputs": [],
   "source": [
    "val_df = train_df.sample(frac=0.2, random_state=1337)\n",
    "train_df = train_df.drop(val_df.index)\n",
    "test_df = test_df.sample(frac=1)"
   ]
  },
  {
   "cell_type": "code",
   "execution_count": 4,
   "id": "b6128e08-fe0e-4dae-829f-22647dbf632e",
   "metadata": {},
   "outputs": [
    {
     "name": "stdout",
     "output_type": "stream",
     "text": [
      "26049 6512 16281\n"
     ]
    }
   ],
   "source": [
    "print(len(train_df), len(val_df), len(test_df))"
   ]
  },
  {
   "cell_type": "code",
   "execution_count": 5,
   "id": "e03e053a-ca99-498b-95f4-968e5074f4d7",
   "metadata": {},
   "outputs": [],
   "source": [
    "def dataframe_to_dataset(dataframe):\n",
    "    dataframe = dataframe.copy()\n",
    "    labels = dataframe.pop(\"education-num\")\n",
    "    labels_temp = labels.to_numpy()\n",
    "    labels_onehot = np.zeros((len(labels_temp), 16))\n",
    "    for index, label in enumerate(labels_temp):\n",
    "        labels_onehot[index][label - 1] = 1\n",
    "    ds = tf.data.Dataset.from_tensor_slices((dict(dataframe), labels_onehot))\n",
    "    ds = ds.shuffle(buffer_size=len(dataframe))\n",
    "    return ds\n",
    "\n",
    "train_ds = dataframe_to_dataset(train_df)\n",
    "val_ds = dataframe_to_dataset(val_df)\n",
    "test_ds = dataframe_to_dataset(test_df)"
   ]
  },
  {
   "cell_type": "code",
   "execution_count": 6,
   "id": "567ab360-dbd0-4650-86bb-8697928033fd",
   "metadata": {},
   "outputs": [
    {
     "name": "stdout",
     "output_type": "stream",
     "text": [
      "Input: {'native-country': <tf.Tensor: shape=(), dtype=int64, numpy=1>, 'marital-status': <tf.Tensor: shape=(), dtype=int64, numpy=2>, 'race': <tf.Tensor: shape=(), dtype=int64, numpy=4>, 'sex': <tf.Tensor: shape=(), dtype=int64, numpy=1>, 'relationship': <tf.Tensor: shape=(), dtype=int64, numpy=2>, 'occupation': <tf.Tensor: shape=(), dtype=int64, numpy=7>, 'workclass': <tf.Tensor: shape=(), dtype=int64, numpy=2>}\n",
      "Target: tf.Tensor([0. 0. 0. 0. 0. 0. 0. 0. 0. 1. 0. 0. 0. 0. 0. 0.], shape=(16,), dtype=float64)\n"
     ]
    }
   ],
   "source": [
    "for x, y in train_ds.take(1):\n",
    "    print(\"Input:\", x)\n",
    "    print(\"Target:\", y)\n"
   ]
  },
  {
   "cell_type": "code",
   "execution_count": 7,
   "id": "f184b9fc-293c-4953-b06f-d6ea97248c04",
   "metadata": {},
   "outputs": [],
   "source": [
    "train_ds = train_ds.batch(32)\n",
    "val_ds = val_ds.batch(32)\n",
    "test_ds = test_ds.batch(32)"
   ]
  },
  {
   "cell_type": "code",
   "execution_count": 8,
   "id": "1a70ee36-620f-40a1-93d1-e669a9168510",
   "metadata": {},
   "outputs": [],
   "source": [
    "from tensorflow.keras.layers.experimental.preprocessing import CategoryEncoding\n",
    "def encode_integer_categorical_feature(feature, name, dataset):\n",
    "    encoder = CategoryEncoding(output_mode=\"binary\")\n",
    "    \n",
    "    feature_ds = dataset.map(lambda x, y: x[name])\n",
    "    feature_ds = feature_ds.map(lambda x: tf.expand_dims(x, -1))\n",
    "    \n",
    "    encoder.adapt(feature_ds)\n",
    "    \n",
    "    encoded_feature = encoder(feature)\n",
    "    return encoded_feature"
   ]
  },
  {
   "cell_type": "code",
   "execution_count": 9,
   "id": "28377576-9c2a-4f35-a752-fc78d6bb31ff",
   "metadata": {},
   "outputs": [],
   "source": [
    "from tensorflow.keras import backend as K\n",
    "\n",
    "def recall_m(y_true, y_pred):\n",
    "    true_positives = K.sum(K.round(K.clip(y_true * y_pred, 0, 1)))\n",
    "    possible_positives = K.sum(K.round(K.clip(y_true, 0, 1)))\n",
    "    recall = true_positives / (possible_positives + K.epsilon())\n",
    "    return recall\n",
    "\n",
    "def precision_m(y_true, y_pred):\n",
    "    true_positives = K.sum(K.round(K.clip(y_true * y_pred, 0, 1)))\n",
    "    predicted_positives = K.sum(K.round(K.clip(y_pred, 0, 1)))\n",
    "    precision = true_positives / (predicted_positives + K.epsilon())\n",
    "    return precision\n",
    "\n",
    "def f1_m(y_true, y_pred):\n",
    "    precision = precision_m(y_true, y_pred)\n",
    "    recall = recall_m(y_true, y_pred)\n",
    "    return 2*((precision*recall)/(precision+recall+K.epsilon()))"
   ]
  },
  {
   "cell_type": "code",
   "execution_count": 10,
   "id": "f3fc413a-1022-4dcc-a274-f6a1250151da",
   "metadata": {},
   "outputs": [],
   "source": [
    "workclass = keras.Input(shape=(1,), name=\"workclass\", dtype=\"int64\")\n",
    "sex = keras.Input(shape=(1,), name=\"sex\", dtype=\"int64\")\n",
    "race = keras.Input(shape=(1,), name=\"race\", dtype=\"int64\")\n",
    "marital_status = keras.Input(shape=(1,), name=\"marital-status\", dtype=\"int64\")\n",
    "native_country = keras.Input(shape=(1,), name=\"native-country\", dtype=\"int64\")\n",
    "relationship = keras.Input(shape=(1,), name=\"relationship\", dtype=\"int64\")\n",
    "occupation = keras.Input(shape=(1,), name=\"occupation\", dtype=\"int64\")\n",
    "all_inputs = [workclass, sex, race, marital_status, native_country, relationship, occupation]\n",
    "\n",
    "workclass_encoded = encode_integer_categorical_feature(workclass, \"workclass\", train_ds)\n",
    "sex_encoded = encode_integer_categorical_feature(sex, \"sex\", train_ds)\n",
    "race_encoded = encode_integer_categorical_feature(race, \"race\", train_ds)\n",
    "marital_status_encoded = encode_integer_categorical_feature(marital_status, \"marital-status\", train_ds)\n",
    "native_country_encoded = encode_integer_categorical_feature(native_country, \"native-country\", train_ds)\n",
    "relationship_encoded = encode_integer_categorical_feature(relationship, \"relationship\", train_ds)\n",
    "occupation_encoded = encode_integer_categorical_feature(occupation, \"occupation\", train_ds)\n",
    "all_features = layers.concatenate(\n",
    "    [\n",
    "        workclass_encoded, sex_encoded, race_encoded, marital_status_encoded, native_country_encoded, relationship_encoded, occupation_encoded\n",
    "    ]\n",
    ")\n",
    "x = layers.Dense(32, activation=\"relu\")(all_features)\n",
    "output = layers.Dense(16, activation=\"softmax\")(x)\n",
    "model = keras.Model(all_inputs, output)\n",
    "model.compile(\"adam\", \"categorical_crossentropy\", metrics=['accuracy', f1_m, precision_m, recall_m])"
   ]
  },
  {
   "cell_type": "code",
   "execution_count": 11,
   "id": "de4f27d7-9d07-4018-9b24-388c56ee5de7",
   "metadata": {
    "scrolled": true,
    "tags": []
   },
   "outputs": [
    {
     "name": "stdout",
     "output_type": "stream",
     "text": [
      "Epoch 1/200\n",
      "815/815 [==============================] - 13s 11ms/step - loss: 2.1498 - accuracy: 0.3055 - f1_m: 0.0040 - precision_m: 0.0385 - recall_m: 0.0022 - val_loss: 1.7807 - val_accuracy: 0.4066 - val_f1_m: 0.1656 - val_precision_m: 0.5556 - val_recall_m: 0.0996\n",
      "Epoch 2/200\n",
      "815/815 [==============================] - 4s 5ms/step - loss: 1.7852 - accuracy: 0.3928 - f1_m: 0.1209 - precision_m: 0.4966 - recall_m: 0.0715 - val_loss: 1.7502 - val_accuracy: 0.4108 - val_f1_m: 0.1369 - val_precision_m: 0.5727 - val_recall_m: 0.0797\n",
      "Epoch 3/200\n",
      "815/815 [==============================] - 5s 5ms/step - loss: 1.7550 - accuracy: 0.3995 - f1_m: 0.1158 - precision_m: 0.5081 - recall_m: 0.0675 - val_loss: 1.7482 - val_accuracy: 0.4071 - val_f1_m: 0.1045 - val_precision_m: 0.5501 - val_recall_m: 0.0593\n",
      "Epoch 4/200\n",
      "815/815 [==============================] - 4s 5ms/step - loss: 1.7384 - accuracy: 0.4018 - f1_m: 0.1246 - precision_m: 0.4909 - recall_m: 0.0736 - val_loss: 1.7404 - val_accuracy: 0.4191 - val_f1_m: 0.1425 - val_precision_m: 0.5776 - val_recall_m: 0.0832\n",
      "Epoch 5/200\n",
      "815/815 [==============================] - 4s 5ms/step - loss: 1.7261 - accuracy: 0.4080 - f1_m: 0.1439 - precision_m: 0.5046 - recall_m: 0.0875 - val_loss: 1.7415 - val_accuracy: 0.4182 - val_f1_m: 0.1285 - val_precision_m: 0.5722 - val_recall_m: 0.0741\n",
      "Epoch 6/200\n",
      "815/815 [==============================] - 4s 5ms/step - loss: 1.7306 - accuracy: 0.4035 - f1_m: 0.1158 - precision_m: 0.4935 - recall_m: 0.0682 - val_loss: 1.7361 - val_accuracy: 0.4162 - val_f1_m: 0.1332 - val_precision_m: 0.5673 - val_recall_m: 0.0775\n",
      "Epoch 7/200\n",
      "815/815 [==============================] - 4s 5ms/step - loss: 1.7203 - accuracy: 0.4061 - f1_m: 0.1309 - precision_m: 0.5220 - recall_m: 0.0772 - val_loss: 1.7394 - val_accuracy: 0.4165 - val_f1_m: 0.1748 - val_precision_m: 0.5733 - val_recall_m: 0.1052\n",
      "Epoch 8/200\n",
      "815/815 [==============================] - 4s 5ms/step - loss: 1.7098 - accuracy: 0.4079 - f1_m: 0.1430 - precision_m: 0.5151 - recall_m: 0.0864 - val_loss: 1.7362 - val_accuracy: 0.4201 - val_f1_m: 0.1395 - val_precision_m: 0.5716 - val_recall_m: 0.0813\n",
      "Epoch 9/200\n",
      "815/815 [==============================] - 4s 5ms/step - loss: 1.7154 - accuracy: 0.4123 - f1_m: 0.1505 - precision_m: 0.5167 - recall_m: 0.0912 - val_loss: 1.7368 - val_accuracy: 0.4218 - val_f1_m: 0.2063 - val_precision_m: 0.5445 - val_recall_m: 0.1296\n",
      "Epoch 10/200\n",
      "815/815 [==============================] - 4s 5ms/step - loss: 1.7193 - accuracy: 0.4066 - f1_m: 0.1318 - precision_m: 0.5237 - recall_m: 0.0775 - val_loss: 1.7359 - val_accuracy: 0.4234 - val_f1_m: 0.1622 - val_precision_m: 0.5804 - val_recall_m: 0.0965\n",
      "Epoch 11/200\n",
      "815/815 [==============================] - 4s 5ms/step - loss: 1.7152 - accuracy: 0.4062 - f1_m: 0.1450 - precision_m: 0.5382 - recall_m: 0.0873 - val_loss: 1.7361 - val_accuracy: 0.4189 - val_f1_m: 0.1390 - val_precision_m: 0.5692 - val_recall_m: 0.0812\n",
      "Epoch 12/200\n",
      "815/815 [==============================] - 4s 5ms/step - loss: 1.7075 - accuracy: 0.4073 - f1_m: 0.1354 - precision_m: 0.5252 - recall_m: 0.0803 - val_loss: 1.7392 - val_accuracy: 0.4175 - val_f1_m: 0.2304 - val_precision_m: 0.5305 - val_recall_m: 0.1495\n",
      "Epoch 13/200\n",
      "815/815 [==============================] - 5s 6ms/step - loss: 1.7097 - accuracy: 0.4055 - f1_m: 0.1650 - precision_m: 0.5206 - recall_m: 0.1019 - val_loss: 1.7363 - val_accuracy: 0.4188 - val_f1_m: 0.1810 - val_precision_m: 0.5403 - val_recall_m: 0.1109\n",
      "Epoch 14/200\n",
      "815/815 [==============================] - 5s 6ms/step - loss: 1.7004 - accuracy: 0.4095 - f1_m: 0.1718 - precision_m: 0.5315 - recall_m: 0.1065 - val_loss: 1.7376 - val_accuracy: 0.4203 - val_f1_m: 0.2068 - val_precision_m: 0.5310 - val_recall_m: 0.1305\n",
      "Epoch 15/200\n",
      "815/815 [==============================] - 5s 6ms/step - loss: 1.7050 - accuracy: 0.4108 - f1_m: 0.1385 - precision_m: 0.5139 - recall_m: 0.0824 - val_loss: 1.7359 - val_accuracy: 0.4211 - val_f1_m: 0.2156 - val_precision_m: 0.5353 - val_recall_m: 0.1374\n",
      "Epoch 16/200\n",
      "815/815 [==============================] - 5s 5ms/step - loss: 1.6999 - accuracy: 0.4127 - f1_m: 0.1506 - precision_m: 0.5298 - recall_m: 0.0908 - val_loss: 1.7351 - val_accuracy: 0.4195 - val_f1_m: 0.2275 - val_precision_m: 0.5225 - val_recall_m: 0.1478\n",
      "Epoch 17/200\n",
      "815/815 [==============================] - 4s 5ms/step - loss: 1.6866 - accuracy: 0.4145 - f1_m: 0.1926 - precision_m: 0.5174 - recall_m: 0.1218 - val_loss: 1.7392 - val_accuracy: 0.4212 - val_f1_m: 0.1639 - val_precision_m: 0.5770 - val_recall_m: 0.0979\n",
      "Epoch 18/200\n",
      "815/815 [==============================] - 4s 5ms/step - loss: 1.7072 - accuracy: 0.4105 - f1_m: 0.1347 - precision_m: 0.5121 - recall_m: 0.0802 - val_loss: 1.7452 - val_accuracy: 0.4206 - val_f1_m: 0.0898 - val_precision_m: 0.5261 - val_recall_m: 0.0501\n",
      "Epoch 19/200\n",
      "815/815 [==============================] - 4s 5ms/step - loss: 1.6735 - accuracy: 0.4252 - f1_m: 0.1753 - precision_m: 0.5352 - recall_m: 0.1086 - val_loss: 1.7407 - val_accuracy: 0.4215 - val_f1_m: 0.1309 - val_precision_m: 0.5566 - val_recall_m: 0.0757\n",
      "Epoch 20/200\n",
      "815/815 [==============================] - 4s 5ms/step - loss: 1.6910 - accuracy: 0.4114 - f1_m: 0.1537 - precision_m: 0.5312 - recall_m: 0.0929 - val_loss: 1.7380 - val_accuracy: 0.4182 - val_f1_m: 0.1608 - val_precision_m: 0.5647 - val_recall_m: 0.0959\n",
      "Epoch 21/200\n",
      "815/815 [==============================] - 5s 6ms/step - loss: 1.7001 - accuracy: 0.4116 - f1_m: 0.1513 - precision_m: 0.5289 - recall_m: 0.0909 - val_loss: 1.7398 - val_accuracy: 0.4169 - val_f1_m: 0.2137 - val_precision_m: 0.5504 - val_recall_m: 0.1351\n",
      "Epoch 22/200\n",
      "815/815 [==============================] - 5s 6ms/step - loss: 1.6876 - accuracy: 0.4086 - f1_m: 0.1683 - precision_m: 0.5220 - recall_m: 0.1043 - val_loss: 1.7450 - val_accuracy: 0.4172 - val_f1_m: 0.1210 - val_precision_m: 0.5401 - val_recall_m: 0.0695\n",
      "Epoch 23/200\n",
      "815/815 [==============================] - 4s 5ms/step - loss: 1.6869 - accuracy: 0.4131 - f1_m: 0.1666 - precision_m: 0.5567 - recall_m: 0.1016 - val_loss: 1.7436 - val_accuracy: 0.4169 - val_f1_m: 0.2039 - val_precision_m: 0.5387 - val_recall_m: 0.1281\n",
      "Epoch 24/200\n",
      "815/815 [==============================] - 4s 5ms/step - loss: 1.6940 - accuracy: 0.4176 - f1_m: 0.1636 - precision_m: 0.5411 - recall_m: 0.0998 - val_loss: 1.7424 - val_accuracy: 0.4205 - val_f1_m: 0.2232 - val_precision_m: 0.5228 - val_recall_m: 0.1446\n",
      "Epoch 25/200\n",
      "815/815 [==============================] - 4s 5ms/step - loss: 1.6900 - accuracy: 0.4158 - f1_m: 0.1689 - precision_m: 0.5220 - recall_m: 0.1043 - val_loss: 1.7440 - val_accuracy: 0.4183 - val_f1_m: 0.1911 - val_precision_m: 0.5524 - val_recall_m: 0.1181\n",
      "Epoch 26/200\n",
      "815/815 [==============================] - 4s 5ms/step - loss: 1.6813 - accuracy: 0.4168 - f1_m: 0.1655 - precision_m: 0.5383 - recall_m: 0.1009 - val_loss: 1.7443 - val_accuracy: 0.4154 - val_f1_m: 0.1866 - val_precision_m: 0.5475 - val_recall_m: 0.1147\n",
      "Epoch 27/200\n",
      "815/815 [==============================] - 4s 5ms/step - loss: 1.6875 - accuracy: 0.4143 - f1_m: 0.1554 - precision_m: 0.5309 - recall_m: 0.0943 - val_loss: 1.7437 - val_accuracy: 0.4197 - val_f1_m: 0.2429 - val_precision_m: 0.5309 - val_recall_m: 0.1598\n",
      "Epoch 28/200\n",
      "815/815 [==============================] - 4s 5ms/step - loss: 1.6825 - accuracy: 0.4209 - f1_m: 0.1773 - precision_m: 0.5381 - recall_m: 0.1095 - val_loss: 1.7469 - val_accuracy: 0.4168 - val_f1_m: 0.1409 - val_precision_m: 0.5639 - val_recall_m: 0.0821\n",
      "Epoch 29/200\n",
      "815/815 [==============================] - 4s 5ms/step - loss: 1.6948 - accuracy: 0.4121 - f1_m: 0.1607 - precision_m: 0.5450 - recall_m: 0.0973 - val_loss: 1.7439 - val_accuracy: 0.4201 - val_f1_m: 0.2124 - val_precision_m: 0.5463 - val_recall_m: 0.1348\n",
      "Epoch 30/200\n",
      "815/815 [==============================] - 4s 5ms/step - loss: 1.6888 - accuracy: 0.4134 - f1_m: 0.1657 - precision_m: 0.5252 - recall_m: 0.1016 - val_loss: 1.7439 - val_accuracy: 0.4189 - val_f1_m: 0.1731 - val_precision_m: 0.5398 - val_recall_m: 0.1052\n",
      "Epoch 31/200\n",
      "815/815 [==============================] - 4s 5ms/step - loss: 1.6863 - accuracy: 0.4179 - f1_m: 0.1666 - precision_m: 0.5344 - recall_m: 0.1015 - val_loss: 1.7438 - val_accuracy: 0.4195 - val_f1_m: 0.2069 - val_precision_m: 0.5536 - val_recall_m: 0.1301\n",
      "Epoch 32/200\n",
      "815/815 [==============================] - 4s 5ms/step - loss: 1.6806 - accuracy: 0.4251 - f1_m: 0.1891 - precision_m: 0.5431 - recall_m: 0.1180 - val_loss: 1.7461 - val_accuracy: 0.4165 - val_f1_m: 0.2289 - val_precision_m: 0.5298 - val_recall_m: 0.1487\n",
      "Epoch 33/200\n",
      "815/815 [==============================] - 4s 5ms/step - loss: 1.6934 - accuracy: 0.4162 - f1_m: 0.1834 - precision_m: 0.5366 - recall_m: 0.1141 - val_loss: 1.7472 - val_accuracy: 0.4178 - val_f1_m: 0.1540 - val_precision_m: 0.5734 - val_recall_m: 0.0910\n",
      "Epoch 34/200\n",
      "815/815 [==============================] - 4s 5ms/step - loss: 1.6845 - accuracy: 0.4186 - f1_m: 0.1941 - precision_m: 0.5452 - recall_m: 0.1219 - val_loss: 1.7468 - val_accuracy: 0.4197 - val_f1_m: 0.1950 - val_precision_m: 0.5308 - val_recall_m: 0.1218\n",
      "Epoch 35/200\n",
      "815/815 [==============================] - 4s 5ms/step - loss: 1.6805 - accuracy: 0.4179 - f1_m: 0.1639 - precision_m: 0.5289 - recall_m: 0.0998 - val_loss: 1.7473 - val_accuracy: 0.4168 - val_f1_m: 0.2270 - val_precision_m: 0.5296 - val_recall_m: 0.1474\n",
      "Epoch 36/200\n",
      "815/815 [==============================] - 4s 5ms/step - loss: 1.6818 - accuracy: 0.4134 - f1_m: 0.1786 - precision_m: 0.5361 - recall_m: 0.1103 - val_loss: 1.7492 - val_accuracy: 0.4188 - val_f1_m: 0.1526 - val_precision_m: 0.5661 - val_recall_m: 0.0899\n",
      "Epoch 37/200\n",
      "815/815 [==============================] - 4s 5ms/step - loss: 1.6858 - accuracy: 0.4127 - f1_m: 0.1598 - precision_m: 0.5290 - recall_m: 0.0977 - val_loss: 1.7533 - val_accuracy: 0.4194 - val_f1_m: 0.1776 - val_precision_m: 0.5437 - val_recall_m: 0.1086\n",
      "Epoch 38/200\n",
      "815/815 [==============================] - 4s 5ms/step - loss: 1.6922 - accuracy: 0.4157 - f1_m: 0.1633 - precision_m: 0.5535 - recall_m: 0.0991 - val_loss: 1.7534 - val_accuracy: 0.4192 - val_f1_m: 0.1516 - val_precision_m: 0.5561 - val_recall_m: 0.0895\n",
      "Epoch 39/200\n",
      "815/815 [==============================] - 4s 5ms/step - loss: 1.6891 - accuracy: 0.4139 - f1_m: 0.1781 - precision_m: 0.5579 - recall_m: 0.1094 - val_loss: 1.7478 - val_accuracy: 0.4209 - val_f1_m: 0.1714 - val_precision_m: 0.5602 - val_recall_m: 0.1032\n",
      "Epoch 40/200\n",
      "815/815 [==============================] - 4s 5ms/step - loss: 1.6837 - accuracy: 0.4161 - f1_m: 0.1785 - precision_m: 0.5562 - recall_m: 0.1097 - val_loss: 1.7550 - val_accuracy: 0.4175 - val_f1_m: 0.1540 - val_precision_m: 0.5385 - val_recall_m: 0.0918\n"
     ]
    }
   ],
   "source": [
    "callback = tf.keras.callbacks.EarlyStopping(monitor='val_accuracy', patience=30)\n",
    "\n",
    "history = model.fit(train_ds, epochs=200, validation_data=val_ds, callbacks=[callback])"
   ]
  },
  {
   "cell_type": "code",
   "execution_count": 12,
   "id": "c0c510a2-ef46-4e0c-8b57-f8bc46a0eccf",
   "metadata": {},
   "outputs": [
    {
     "name": "stdout",
     "output_type": "stream",
     "text": [
      "509/509 [==============================] - 2s 4ms/step - loss: 1.7511 - accuracy: 0.4029 - f1_m: 0.1386 - precision_m: 0.5089 - recall_m: 0.0820\n"
     ]
    }
   ],
   "source": [
    "loss, accuracy, f1_score, precision, recall = model.evaluate(test_ds)"
   ]
  },
  {
   "cell_type": "code",
   "execution_count": 17,
   "id": "7c22581d-62ce-4f8f-8c7e-03f2f7f33677",
   "metadata": {},
   "outputs": [],
   "source": [
    "workclass = keras.Input(shape=(1,), name=\"workclass\", dtype=\"int64\")\n",
    "sex = keras.Input(shape=(1,), name=\"sex\", dtype=\"int64\")\n",
    "race = keras.Input(shape=(1,), name=\"race\", dtype=\"int64\")\n",
    "marital_status = keras.Input(shape=(1,), name=\"marital-status\", dtype=\"int64\")\n",
    "native_country = keras.Input(shape=(1,), name=\"native-country\", dtype=\"int64\")\n",
    "relationship = keras.Input(shape=(1,), name=\"relationship\", dtype=\"int64\")\n",
    "occupation = keras.Input(shape=(1,), name=\"occupation\", dtype=\"int64\")\n",
    "all_inputs = [workclass, sex, race, marital_status, native_country, relationship, occupation]\n",
    "\n",
    "workclass_encoded = encode_integer_categorical_feature(workclass, \"workclass\", train_ds)\n",
    "sex_encoded = encode_integer_categorical_feature(sex, \"sex\", train_ds)\n",
    "race_encoded = encode_integer_categorical_feature(race, \"race\", train_ds)\n",
    "marital_status_encoded = encode_integer_categorical_feature(marital_status, \"marital-status\", train_ds)\n",
    "native_country_encoded = encode_integer_categorical_feature(native_country, \"native-country\", train_ds)\n",
    "relationship_encoded = encode_integer_categorical_feature(relationship, \"relationship\", train_ds)\n",
    "occupation_encoded = encode_integer_categorical_feature(occupation, \"occupation\", train_ds)\n",
    "all_features = layers.concatenate(\n",
    "    [\n",
    "        workclass_encoded, sex_encoded, race_encoded, marital_status_encoded, native_country_encoded, relationship_encoded, occupation_encoded\n",
    "    ]\n",
    ")\n",
    "x = layers.Dense(16, activation=\"relu\")(all_features)\n",
    "x = layers.Dense(32, activation=\"relu\")(x)\n",
    "output = layers.Dense(16, activation=\"softmax\")(x)\n",
    "model = keras.Model(all_inputs, output)\n",
    "model.compile(\"adam\", \"categorical_crossentropy\", metrics=['accuracy', f1_m, precision_m, recall_m])"
   ]
  },
  {
   "cell_type": "code",
   "execution_count": 18,
   "id": "aea60b7f-9461-4ec3-8c74-a900f1e4f840",
   "metadata": {
    "scrolled": true,
    "tags": []
   },
   "outputs": [
    {
     "name": "stdout",
     "output_type": "stream",
     "text": [
      "Epoch 1/200\n",
      "815/815 [==============================] - 9s 7ms/step - loss: 2.1585 - accuracy: 0.3175 - f1_m: 0.0218 - precision_m: 0.1395 - recall_m: 0.0124 - val_loss: 1.7777 - val_accuracy: 0.4039 - val_f1_m: 0.0490 - val_precision_m: 0.4145 - val_recall_m: 0.0265\n",
      "Epoch 2/200\n",
      "815/815 [==============================] - 4s 5ms/step - loss: 1.7797 - accuracy: 0.3920 - f1_m: 0.1169 - precision_m: 0.4842 - recall_m: 0.0696 - val_loss: 1.7546 - val_accuracy: 0.4049 - val_f1_m: 0.1620 - val_precision_m: 0.5528 - val_recall_m: 0.0973\n",
      "Epoch 3/200\n",
      "815/815 [==============================] - 4s 5ms/step - loss: 1.7428 - accuracy: 0.3989 - f1_m: 0.1414 - precision_m: 0.5036 - recall_m: 0.0856 - val_loss: 1.7513 - val_accuracy: 0.4149 - val_f1_m: 0.1691 - val_precision_m: 0.5268 - val_recall_m: 0.1025\n",
      "Epoch 4/200\n",
      "815/815 [==============================] - 5s 5ms/step - loss: 1.7318 - accuracy: 0.4031 - f1_m: 0.1245 - precision_m: 0.5086 - recall_m: 0.0739 - val_loss: 1.7476 - val_accuracy: 0.4109 - val_f1_m: 0.0987 - val_precision_m: 0.5951 - val_recall_m: 0.0550\n",
      "Epoch 5/200\n",
      "815/815 [==============================] - 5s 5ms/step - loss: 1.7313 - accuracy: 0.4027 - f1_m: 0.1068 - precision_m: 0.4691 - recall_m: 0.0635 - val_loss: 1.7432 - val_accuracy: 0.4180 - val_f1_m: 0.1012 - val_precision_m: 0.5552 - val_recall_m: 0.0568\n",
      "Epoch 6/200\n",
      "815/815 [==============================] - 4s 5ms/step - loss: 1.7295 - accuracy: 0.4050 - f1_m: 0.1219 - precision_m: 0.5094 - recall_m: 0.0724 - val_loss: 1.7440 - val_accuracy: 0.4208 - val_f1_m: 0.1837 - val_precision_m: 0.5252 - val_recall_m: 0.1135\n",
      "Epoch 7/200\n",
      "815/815 [==============================] - 4s 5ms/step - loss: 1.7295 - accuracy: 0.4031 - f1_m: 0.1342 - precision_m: 0.4862 - recall_m: 0.0813 - val_loss: 1.7451 - val_accuracy: 0.4182 - val_f1_m: 0.0929 - val_precision_m: 0.5296 - val_recall_m: 0.0519\n",
      "Epoch 8/200\n",
      "815/815 [==============================] - 4s 5ms/step - loss: 1.7186 - accuracy: 0.4035 - f1_m: 0.1200 - precision_m: 0.5058 - recall_m: 0.0707 - val_loss: 1.7405 - val_accuracy: 0.4160 - val_f1_m: 0.1891 - val_precision_m: 0.5469 - val_recall_m: 0.1166\n",
      "Epoch 9/200\n",
      "815/815 [==============================] - 4s 5ms/step - loss: 1.7209 - accuracy: 0.4079 - f1_m: 0.1529 - precision_m: 0.5162 - recall_m: 0.0931 - val_loss: 1.7444 - val_accuracy: 0.4215 - val_f1_m: 0.1993 - val_precision_m: 0.5387 - val_recall_m: 0.1247\n",
      "Epoch 10/200\n",
      "815/815 [==============================] - 4s 5ms/step - loss: 1.7235 - accuracy: 0.4022 - f1_m: 0.1228 - precision_m: 0.4788 - recall_m: 0.0744 - val_loss: 1.7408 - val_accuracy: 0.4217 - val_f1_m: 0.2018 - val_precision_m: 0.5145 - val_recall_m: 0.1279\n",
      "Epoch 11/200\n",
      "815/815 [==============================] - 4s 5ms/step - loss: 1.7096 - accuracy: 0.4114 - f1_m: 0.1571 - precision_m: 0.5096 - recall_m: 0.0983 - val_loss: 1.7401 - val_accuracy: 0.4186 - val_f1_m: 0.2094 - val_precision_m: 0.5198 - val_recall_m: 0.1337\n",
      "Epoch 12/200\n",
      "815/815 [==============================] - 4s 5ms/step - loss: 1.7115 - accuracy: 0.4061 - f1_m: 0.1432 - precision_m: 0.5100 - recall_m: 0.0868 - val_loss: 1.7405 - val_accuracy: 0.4232 - val_f1_m: 0.1165 - val_precision_m: 0.5631 - val_recall_m: 0.0665\n",
      "Epoch 13/200\n",
      "815/815 [==============================] - 5s 5ms/step - loss: 1.7072 - accuracy: 0.4112 - f1_m: 0.1109 - precision_m: 0.4836 - recall_m: 0.0659 - val_loss: 1.7414 - val_accuracy: 0.4211 - val_f1_m: 0.1425 - val_precision_m: 0.5727 - val_recall_m: 0.0833\n",
      "Epoch 14/200\n",
      "815/815 [==============================] - 4s 5ms/step - loss: 1.7197 - accuracy: 0.4052 - f1_m: 0.1334 - precision_m: 0.4951 - recall_m: 0.0811 - val_loss: 1.7449 - val_accuracy: 0.4228 - val_f1_m: 0.1641 - val_precision_m: 0.5430 - val_recall_m: 0.0987\n",
      "Epoch 15/200\n",
      "815/815 [==============================] - 4s 5ms/step - loss: 1.7120 - accuracy: 0.4100 - f1_m: 0.1554 - precision_m: 0.5254 - recall_m: 0.0942 - val_loss: 1.7437 - val_accuracy: 0.4191 - val_f1_m: 0.1512 - val_precision_m: 0.5392 - val_recall_m: 0.0901\n",
      "Epoch 16/200\n",
      "815/815 [==============================] - 4s 5ms/step - loss: 1.7046 - accuracy: 0.4105 - f1_m: 0.1394 - precision_m: 0.5147 - recall_m: 0.0838 - val_loss: 1.7516 - val_accuracy: 0.4126 - val_f1_m: 0.0918 - val_precision_m: 0.5150 - val_recall_m: 0.0512\n",
      "Epoch 17/200\n",
      "815/815 [==============================] - 4s 5ms/step - loss: 1.7191 - accuracy: 0.4029 - f1_m: 0.1182 - precision_m: 0.4914 - recall_m: 0.0706 - val_loss: 1.7456 - val_accuracy: 0.4148 - val_f1_m: 0.1421 - val_precision_m: 0.5934 - val_recall_m: 0.0827\n",
      "Epoch 18/200\n",
      "815/815 [==============================] - 4s 5ms/step - loss: 1.7135 - accuracy: 0.4110 - f1_m: 0.1525 - precision_m: 0.5262 - recall_m: 0.0924 - val_loss: 1.7483 - val_accuracy: 0.4155 - val_f1_m: 0.1287 - val_precision_m: 0.5522 - val_recall_m: 0.0746\n",
      "Epoch 19/200\n",
      "815/815 [==============================] - 4s 5ms/step - loss: 1.7095 - accuracy: 0.4098 - f1_m: 0.1477 - precision_m: 0.5204 - recall_m: 0.0900 - val_loss: 1.7468 - val_accuracy: 0.4223 - val_f1_m: 0.1236 - val_precision_m: 0.5622 - val_recall_m: 0.0711\n",
      "Epoch 20/200\n",
      "815/815 [==============================] - 4s 5ms/step - loss: 1.6964 - accuracy: 0.4161 - f1_m: 0.1717 - precision_m: 0.5505 - recall_m: 0.1057 - val_loss: 1.7475 - val_accuracy: 0.4166 - val_f1_m: 0.1218 - val_precision_m: 0.5776 - val_recall_m: 0.0695\n",
      "Epoch 21/200\n",
      "815/815 [==============================] - 5s 6ms/step - loss: 1.7017 - accuracy: 0.4089 - f1_m: 0.1547 - precision_m: 0.5319 - recall_m: 0.0946 - val_loss: 1.7514 - val_accuracy: 0.4142 - val_f1_m: 0.1983 - val_precision_m: 0.5651 - val_recall_m: 0.1230\n",
      "Epoch 22/200\n",
      "815/815 [==============================] - 5s 6ms/step - loss: 1.7081 - accuracy: 0.4099 - f1_m: 0.1573 - precision_m: 0.5264 - recall_m: 0.0963 - val_loss: 1.7494 - val_accuracy: 0.4185 - val_f1_m: 0.1401 - val_precision_m: 0.5677 - val_recall_m: 0.0820\n",
      "Epoch 23/200\n",
      "815/815 [==============================] - 5s 5ms/step - loss: 1.7016 - accuracy: 0.4104 - f1_m: 0.1534 - precision_m: 0.5201 - recall_m: 0.0933 - val_loss: 1.7463 - val_accuracy: 0.4234 - val_f1_m: 0.2604 - val_precision_m: 0.5338 - val_recall_m: 0.1746\n",
      "Epoch 24/200\n",
      "815/815 [==============================] - 4s 5ms/step - loss: 1.7003 - accuracy: 0.4097 - f1_m: 0.1410 - precision_m: 0.5514 - recall_m: 0.0849 - val_loss: 1.7451 - val_accuracy: 0.4221 - val_f1_m: 0.2231 - val_precision_m: 0.5338 - val_recall_m: 0.1435\n",
      "Epoch 25/200\n",
      "815/815 [==============================] - 4s 5ms/step - loss: 1.6949 - accuracy: 0.4104 - f1_m: 0.1544 - precision_m: 0.5388 - recall_m: 0.0932 - val_loss: 1.7468 - val_accuracy: 0.4172 - val_f1_m: 0.1186 - val_precision_m: 0.5727 - val_recall_m: 0.0676\n",
      "Epoch 26/200\n",
      "815/815 [==============================] - 4s 5ms/step - loss: 1.7052 - accuracy: 0.4103 - f1_m: 0.1417 - precision_m: 0.5270 - recall_m: 0.0851 - val_loss: 1.7518 - val_accuracy: 0.4100 - val_f1_m: 0.1216 - val_precision_m: 0.5456 - val_recall_m: 0.0702\n",
      "Epoch 27/200\n",
      "815/815 [==============================] - 4s 5ms/step - loss: 1.7106 - accuracy: 0.4059 - f1_m: 0.1427 - precision_m: 0.5260 - recall_m: 0.0860 - val_loss: 1.7476 - val_accuracy: 0.4203 - val_f1_m: 0.1538 - val_precision_m: 0.5794 - val_recall_m: 0.0905\n",
      "Epoch 28/200\n",
      "815/815 [==============================] - 4s 5ms/step - loss: 1.7032 - accuracy: 0.4104 - f1_m: 0.1403 - precision_m: 0.5131 - recall_m: 0.0847 - val_loss: 1.7459 - val_accuracy: 0.4195 - val_f1_m: 0.1258 - val_precision_m: 0.5839 - val_recall_m: 0.0723\n",
      "Epoch 29/200\n",
      "815/815 [==============================] - 4s 5ms/step - loss: 1.6952 - accuracy: 0.4126 - f1_m: 0.1515 - precision_m: 0.5479 - recall_m: 0.0910 - val_loss: 1.7528 - val_accuracy: 0.4122 - val_f1_m: 0.2016 - val_precision_m: 0.5414 - val_recall_m: 0.1264\n",
      "Epoch 30/200\n",
      "815/815 [==============================] - 4s 5ms/step - loss: 1.7015 - accuracy: 0.4061 - f1_m: 0.1448 - precision_m: 0.5285 - recall_m: 0.0872 - val_loss: 1.7555 - val_accuracy: 0.4119 - val_f1_m: 0.1085 - val_precision_m: 0.5200 - val_recall_m: 0.0622\n",
      "Epoch 31/200\n",
      "815/815 [==============================] - 4s 5ms/step - loss: 1.7024 - accuracy: 0.4105 - f1_m: 0.1488 - precision_m: 0.5201 - recall_m: 0.0905 - val_loss: 1.7543 - val_accuracy: 0.4112 - val_f1_m: 0.1717 - val_precision_m: 0.5463 - val_recall_m: 0.1039\n",
      "Epoch 32/200\n",
      "815/815 [==============================] - 4s 5ms/step - loss: 1.6911 - accuracy: 0.4176 - f1_m: 0.1703 - precision_m: 0.5216 - recall_m: 0.1063 - val_loss: 1.7500 - val_accuracy: 0.4211 - val_f1_m: 0.1259 - val_precision_m: 0.5713 - val_recall_m: 0.0726\n",
      "Epoch 33/200\n",
      "815/815 [==============================] - 4s 5ms/step - loss: 1.6935 - accuracy: 0.4116 - f1_m: 0.1504 - precision_m: 0.5446 - recall_m: 0.0907 - val_loss: 1.7506 - val_accuracy: 0.4205 - val_f1_m: 0.2126 - val_precision_m: 0.5264 - val_recall_m: 0.1356\n",
      "Epoch 34/200\n",
      "815/815 [==============================] - 4s 5ms/step - loss: 1.6945 - accuracy: 0.4134 - f1_m: 0.1676 - precision_m: 0.5192 - recall_m: 0.1040 - val_loss: 1.7573 - val_accuracy: 0.4165 - val_f1_m: 0.2369 - val_precision_m: 0.5278 - val_recall_m: 0.1553\n",
      "Epoch 35/200\n",
      "815/815 [==============================] - 4s 5ms/step - loss: 1.6921 - accuracy: 0.4133 - f1_m: 0.1774 - precision_m: 0.5149 - recall_m: 0.1112 - val_loss: 1.7545 - val_accuracy: 0.4151 - val_f1_m: 0.2054 - val_precision_m: 0.5516 - val_recall_m: 0.1288\n",
      "Epoch 36/200\n",
      "815/815 [==============================] - 4s 5ms/step - loss: 1.6896 - accuracy: 0.4184 - f1_m: 0.1649 - precision_m: 0.5309 - recall_m: 0.1020 - val_loss: 1.7519 - val_accuracy: 0.4182 - val_f1_m: 0.1192 - val_precision_m: 0.5280 - val_recall_m: 0.0686\n",
      "Epoch 37/200\n",
      "815/815 [==============================] - 4s 5ms/step - loss: 1.6925 - accuracy: 0.4155 - f1_m: 0.1566 - precision_m: 0.5241 - recall_m: 0.0953 - val_loss: 1.7513 - val_accuracy: 0.4174 - val_f1_m: 0.2190 - val_precision_m: 0.5278 - val_recall_m: 0.1408\n",
      "Epoch 38/200\n",
      "815/815 [==============================] - 4s 5ms/step - loss: 1.6972 - accuracy: 0.4141 - f1_m: 0.1741 - precision_m: 0.5292 - recall_m: 0.1084 - val_loss: 1.7527 - val_accuracy: 0.4169 - val_f1_m: 0.1992 - val_precision_m: 0.5378 - val_recall_m: 0.1242\n",
      "Epoch 39/200\n",
      "815/815 [==============================] - 4s 5ms/step - loss: 1.6933 - accuracy: 0.4171 - f1_m: 0.1420 - precision_m: 0.5294 - recall_m: 0.0854 - val_loss: 1.7577 - val_accuracy: 0.4172 - val_f1_m: 0.1463 - val_precision_m: 0.5541 - val_recall_m: 0.0859\n",
      "Epoch 40/200\n",
      "815/815 [==============================] - 4s 5ms/step - loss: 1.6806 - accuracy: 0.4168 - f1_m: 0.1695 - precision_m: 0.5342 - recall_m: 0.1035 - val_loss: 1.7558 - val_accuracy: 0.4158 - val_f1_m: 0.2053 - val_precision_m: 0.5299 - val_recall_m: 0.1297\n",
      "Epoch 41/200\n",
      "815/815 [==============================] - 4s 5ms/step - loss: 1.7000 - accuracy: 0.4126 - f1_m: 0.1641 - precision_m: 0.5345 - recall_m: 0.1008 - val_loss: 1.7573 - val_accuracy: 0.4166 - val_f1_m: 0.1964 - val_precision_m: 0.5481 - val_recall_m: 0.1219\n",
      "Epoch 42/200\n",
      "815/815 [==============================] - 4s 5ms/step - loss: 1.6878 - accuracy: 0.4128 - f1_m: 0.1518 - precision_m: 0.5218 - recall_m: 0.0925 - val_loss: 1.7552 - val_accuracy: 0.4132 - val_f1_m: 0.1504 - val_precision_m: 0.5606 - val_recall_m: 0.0887\n",
      "Epoch 43/200\n",
      "815/815 [==============================] - 4s 5ms/step - loss: 1.6912 - accuracy: 0.4119 - f1_m: 0.1504 - precision_m: 0.5150 - recall_m: 0.0911 - val_loss: 1.7589 - val_accuracy: 0.4082 - val_f1_m: 0.1330 - val_precision_m: 0.5635 - val_recall_m: 0.0767\n",
      "Epoch 44/200\n",
      "815/815 [==============================] - 4s 5ms/step - loss: 1.6785 - accuracy: 0.4171 - f1_m: 0.1653 - precision_m: 0.5334 - recall_m: 0.1020 - val_loss: 1.7573 - val_accuracy: 0.4182 - val_f1_m: 0.2003 - val_precision_m: 0.5242 - val_recall_m: 0.1259\n",
      "Epoch 45/200\n",
      "815/815 [==============================] - 4s 5ms/step - loss: 1.6862 - accuracy: 0.4109 - f1_m: 0.1718 - precision_m: 0.5297 - recall_m: 0.1058 - val_loss: 1.7606 - val_accuracy: 0.4056 - val_f1_m: 0.1203 - val_precision_m: 0.5624 - val_recall_m: 0.0689\n",
      "Epoch 46/200\n",
      "815/815 [==============================] - 4s 5ms/step - loss: 1.6916 - accuracy: 0.4114 - f1_m: 0.1443 - precision_m: 0.5201 - recall_m: 0.0869 - val_loss: 1.7566 - val_accuracy: 0.4186 - val_f1_m: 0.2263 - val_precision_m: 0.5276 - val_recall_m: 0.1460\n",
      "Epoch 47/200\n",
      "815/815 [==============================] - 5s 5ms/step - loss: 1.6802 - accuracy: 0.4207 - f1_m: 0.1804 - precision_m: 0.5414 - recall_m: 0.1122 - val_loss: 1.7588 - val_accuracy: 0.4162 - val_f1_m: 0.1491 - val_precision_m: 0.5461 - val_recall_m: 0.0882\n",
      "Epoch 48/200\n",
      "815/815 [==============================] - 5s 5ms/step - loss: 1.6868 - accuracy: 0.4134 - f1_m: 0.1541 - precision_m: 0.5392 - recall_m: 0.0924 - val_loss: 1.7583 - val_accuracy: 0.4162 - val_f1_m: 0.1622 - val_precision_m: 0.5571 - val_recall_m: 0.0970\n",
      "Epoch 49/200\n",
      "815/815 [==============================] - 5s 5ms/step - loss: 1.6914 - accuracy: 0.4099 - f1_m: 0.1597 - precision_m: 0.5285 - recall_m: 0.0977 - val_loss: 1.7561 - val_accuracy: 0.4168 - val_f1_m: 0.2262 - val_precision_m: 0.5330 - val_recall_m: 0.1461\n",
      "Epoch 50/200\n",
      "815/815 [==============================] - 4s 5ms/step - loss: 1.6813 - accuracy: 0.4129 - f1_m: 0.1651 - precision_m: 0.5274 - recall_m: 0.1028 - val_loss: 1.7583 - val_accuracy: 0.4160 - val_f1_m: 0.1642 - val_precision_m: 0.5285 - val_recall_m: 0.0990\n",
      "Epoch 51/200\n",
      "815/815 [==============================] - 5s 6ms/step - loss: 1.6963 - accuracy: 0.4108 - f1_m: 0.1441 - precision_m: 0.5453 - recall_m: 0.0865 - val_loss: 1.7627 - val_accuracy: 0.4054 - val_f1_m: 0.1422 - val_precision_m: 0.5657 - val_recall_m: 0.0832\n",
      "Epoch 52/200\n",
      "815/815 [==============================] - 4s 5ms/step - loss: 1.6797 - accuracy: 0.4165 - f1_m: 0.1704 - precision_m: 0.5400 - recall_m: 0.1046 - val_loss: 1.7638 - val_accuracy: 0.4125 - val_f1_m: 0.1182 - val_precision_m: 0.5382 - val_recall_m: 0.0680\n",
      "Epoch 53/200\n",
      "815/815 [==============================] - 4s 5ms/step - loss: 1.6894 - accuracy: 0.4156 - f1_m: 0.1545 - precision_m: 0.5358 - recall_m: 0.0940 - val_loss: 1.7600 - val_accuracy: 0.4148 - val_f1_m: 0.1536 - val_precision_m: 0.5445 - val_recall_m: 0.0915\n"
     ]
    }
   ],
   "source": [
    "callback = tf.keras.callbacks.EarlyStopping(monitor='val_accuracy', patience=30)\n",
    "\n",
    "history = model.fit(train_ds, epochs=200, validation_data=val_ds, callbacks=[callback])"
   ]
  },
  {
   "cell_type": "code",
   "execution_count": 19,
   "id": "a221c96c-d59f-468c-8a8d-dbb89b6bbd36",
   "metadata": {},
   "outputs": [
    {
     "name": "stdout",
     "output_type": "stream",
     "text": [
      "815/815 [==============================] - 3s 4ms/step - loss: 1.6788 - accuracy: 0.4170 - f1_m: 0.1507 - precision_m: 0.5526 - recall_m: 0.0891\n"
     ]
    }
   ],
   "source": [
    "loss, accuracy, f1_score, precision, recall = model.evaluate(train_ds)"
   ]
  },
  {
   "cell_type": "code",
   "execution_count": 20,
   "id": "2a176d47-4913-4337-a6a8-de11de4aee78",
   "metadata": {},
   "outputs": [
    {
     "name": "stdout",
     "output_type": "stream",
     "text": [
      "509/509 [==============================] - 2s 4ms/step - loss: 1.7547 - accuracy: 0.4056 - f1_m: 0.1425 - precision_m: 0.5070 - recall_m: 0.0849\n"
     ]
    }
   ],
   "source": [
    "loss, accuracy, f1_score, precision, recall = model.evaluate(test_ds)"
   ]
  },
  {
   "cell_type": "code",
   "execution_count": null,
   "id": "5e928eea-fc3b-47b1-85f9-cead7ce72b06",
   "metadata": {},
   "outputs": [],
   "source": []
  }
 ],
 "metadata": {
  "kernelspec": {
   "display_name": "Python 3",
   "language": "python",
   "name": "python3"
  },
  "language_info": {
   "codemirror_mode": {
    "name": "ipython",
    "version": 3
   },
   "file_extension": ".py",
   "mimetype": "text/x-python",
   "name": "python",
   "nbconvert_exporter": "python",
   "pygments_lexer": "ipython3",
   "version": "3.8.8"
  }
 },
 "nbformat": 4,
 "nbformat_minor": 5
}
